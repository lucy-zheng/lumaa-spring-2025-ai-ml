{
 "cells": [
  {
   "cell_type": "code",
   "execution_count": 19,
   "id": "57cc0ae3-287e-4eb8-82b5-a5a87b253a60",
   "metadata": {},
   "outputs": [],
   "source": [
    "# import packages\n",
    "import pandas as pd\n",
    "import numpy as np\n",
    "from sklearn.feature_extraction.text import TfidfVectorizer\n",
    "from sklearn.metrics.pairwise import cosine_similarity"
   ]
  },
  {
   "cell_type": "markdown",
   "id": "3c1cc44e-fc3c-4d1c-8c5d-01e1f0976a69",
   "metadata": {},
   "source": [
    "# 1. Data loading & cleaning"
   ]
  },
  {
   "cell_type": "code",
   "execution_count": 20,
   "id": "9b7ce871-f40a-4e03-b544-576ba53f14ef",
   "metadata": {},
   "outputs": [],
   "source": [
    "def load_data(file):\n",
    "    \"\"\" Read the .csv file and parse the title and overview\"\"\"\n",
    "    movies = pd.read_csv(file) # \"movies_sample.csv\"\n",
    "    movies = movies[[\"original_title\",\"overview\"]]\n",
    "    \n",
    "    # Remove null and filler values in the overview\n",
    "    movies = movies.dropna(subset=['overview'])\n",
    "    movies = movies[movies[\"overview\"]!=\"No overview found.\"]\n",
    "\n",
    "    # Format the overview to lowercase\n",
    "    movies[\"overview\"] = movies[\"overview\"].str.lower()\n",
    "\n",
    "    return movies"
   ]
  },
  {
   "cell_type": "markdown",
   "id": "fdd9c52a-94e6-435d-8cf7-d7614cff9755",
   "metadata": {},
   "source": [
    "# 2. Vectorization using TF-IDF"
   ]
  },
  {
   "cell_type": "code",
   "execution_count": 21,
   "id": "a887b84f-5144-4d9b-8315-2fbe7f31b723",
   "metadata": {},
   "outputs": [],
   "source": [
    "def vectorize_text(texts):\n",
    "    \"\"\" Vectorizing text using TF-IDF\"\"\"\n",
    "    # Define a TF-IDF Vectorizer Object\n",
    "    tfidf = TfidfVectorizer(stop_words='english')\n",
    "\n",
    "    # Construct the TF-IDF matrix\n",
    "    tfidf_matrix = tfidf.fit_transform(texts)\n",
    "    \n",
    "    return tfidf, tfidf_matrix"
   ]
  },
  {
   "cell_type": "markdown",
   "id": "d1736b9f-dee4-4001-a813-6dc9c126fd07",
   "metadata": {},
   "source": [
    "# 3. Calculate cosine similarity"
   ]
  },
  {
   "cell_type": "code",
   "execution_count": 22,
   "id": "07e42840-ecec-4cdd-adfb-7ffab567a956",
   "metadata": {},
   "outputs": [],
   "source": [
    "def compute_similarity(user_input, tfidf, tfidf_matrix):\n",
    "    \"\"\" Compute the cosine similarity between overviews and user input \"\"\"\n",
    "    # Format the user input to lowercase\n",
    "    user_input = user_input.lower()\n",
    "    \n",
    "    # Vectorize the user input\n",
    "    user_vector = tfidf.transform([user_input])\n",
    "    \n",
    "    # Compute the cosine similarity\n",
    "    cosine_sim = cosine_similarity(user_vector, tfidf_matrix)\n",
    "    \n",
    "    return cosine_sim"
   ]
  },
  {
   "cell_type": "markdown",
   "id": "e03fce6d-13bb-45dd-9d30-9903398b06e0",
   "metadata": {},
   "source": [
    "# 4. Print recommendation"
   ]
  },
  {
   "cell_type": "code",
   "execution_count": 23,
   "id": "a5ffa9c9-de30-4000-8377-83c80bb4bfae",
   "metadata": {},
   "outputs": [],
   "source": [
    "def recommend_movies(user_input, movies, tfidf, tfidf_matrix, top_n=5):\n",
    "    \"\"\" Print the recommended movies \"\"\"\n",
    "    # Calculate the cosine similarity and append to the movies dataframe\n",
    "    cosine_sim = compute_similarity(user_input, tfidf, tfidf_matrix)\n",
    "    movies[\"cosine_similarity\"] = cosine_sim.flatten()\n",
    "    \n",
    "    # Ge the indices of the recommended movies\n",
    "    top_indices = cosine_sim.argsort()[0][-top_n:][::-1]\n",
    "    recommended_movies = movies.iloc[top_indices]\n",
    "\n",
    "    # Print the recommended movies (title, cosine similarity)\n",
    "    print(recommended_movies[[\"original_title\", \"cosine_similarity\"]])"
   ]
  },
  {
   "cell_type": "markdown",
   "id": "ac5c7b5a-0093-406b-bb9e-d71f1e3cef53",
   "metadata": {},
   "source": [
    "# 5. Parse user input"
   ]
  },
  {
   "cell_type": "code",
   "execution_count": 24,
   "id": "3904adc4-7e0e-4423-b52a-20283376fb54",
   "metadata": {},
   "outputs": [],
   "source": [
    "def parse_input():\n",
    "    # Parse the movie description\n",
    "    description = input(\"Please enter your movie description:\")\n",
    "\n",
    "    # Parse the number of movies to recommend\n",
    "    while True:\n",
    "        try:\n",
    "            n_top = int(input(\"Please enter your number of movies to recommend:\"))\n",
    "            if n_top > 0:\n",
    "                break\n",
    "            else: # n_top <= 0\n",
    "                print(\"The number needs to be at least 1.\")\n",
    "        except ValueError:\n",
    "            print(\"Please enter an integer.\")\n",
    "    return description, n_top"
   ]
  },
  {
   "cell_type": "markdown",
   "id": "7408663a-3294-40fe-a318-cd2b54937e56",
   "metadata": {},
   "source": [
    "# Display:"
   ]
  },
  {
   "cell_type": "code",
   "execution_count": 25,
   "id": "2611a96c-0b69-4e73-8e8c-67c9db09c23b",
   "metadata": {},
   "outputs": [
    {
     "name": "stdin",
     "output_type": "stream",
     "text": [
      "Please enter your movie description: I like action movies set in space.\n",
      "Please enter your number of movies to recommend: 5\n"
     ]
    },
    {
     "name": "stdout",
     "output_type": "stream",
     "text": [
      "         original_title  cosine_similarity\n",
      "221           Space Cop           0.149704\n",
      "478  Monsters vs Aliens           0.146310\n",
      "71            Dreamboat           0.138510\n",
      "211               疯狂的赛车           0.123857\n",
      "251         Šakalí léta           0.106885\n"
     ]
    }
   ],
   "source": [
    "movies = load_data(\"movies_sample.csv\")\n",
    "\n",
    "# Vectorizing the movie overview\n",
    "tfidf, tfidf_matrix = vectorize_text(movies['overview'])\n",
    "\n",
    "# Prompt the user to enter the movie description and number of movies to recommend\n",
    "description, n_top = parse_input()\n",
    "\n",
    "# Print movie recommendation\n",
    "recommend_movies(description, movies, tfidf, tfidf_matrix, top_n=5)"
   ]
  }
 ],
 "metadata": {
  "kernelspec": {
   "display_name": "Python 3 (ipykernel)",
   "language": "python",
   "name": "python3"
  },
  "language_info": {
   "codemirror_mode": {
    "name": "ipython",
    "version": 3
   },
   "file_extension": ".py",
   "mimetype": "text/x-python",
   "name": "python",
   "nbconvert_exporter": "python",
   "pygments_lexer": "ipython3",
   "version": "3.9.19"
  }
 },
 "nbformat": 4,
 "nbformat_minor": 5
}
